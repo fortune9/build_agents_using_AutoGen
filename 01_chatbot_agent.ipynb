{
 "cells": [
  {
   "cell_type": "markdown",
   "id": "69bf2d0d",
   "metadata": {},
   "source": [
    "## Install necessary packages"
   ]
  },
  {
   "cell_type": "code",
   "execution_count": 10,
   "id": "70749f1d",
   "metadata": {},
   "outputs": [
    {
     "name": "stdout",
     "output_type": "stream",
     "text": [
      "Requirement already satisfied: pyautogen in d:\\tools\\python\\python38\\lib\\site-packages (0.5.3)\n",
      "Requirement already satisfied: diskcache in d:\\tools\\python\\python38\\lib\\site-packages (from pyautogen) (5.6.3)\n",
      "Requirement already satisfied: docker in d:\\tools\\python\\python38\\lib\\site-packages (from pyautogen) (7.1.0)\n",
      "Requirement already satisfied: flaml in d:\\tools\\python\\python38\\lib\\site-packages (from pyautogen) (2.3.4)\n",
      "Requirement already satisfied: openai>=1.3 in d:\\tools\\python\\python38\\lib\\site-packages (from pyautogen) (1.93.0)\n",
      "Requirement already satisfied: packaging in d:\\tools\\python\\python38\\lib\\site-packages (from pyautogen) (23.0)\n",
      "Requirement already satisfied: pydantic!=2.6.0,<3,>=1.10 in d:\\tools\\python\\python38\\lib\\site-packages (from pyautogen) (2.10.6)\n",
      "Requirement already satisfied: python-dotenv in d:\\tools\\python\\python38\\lib\\site-packages (from pyautogen) (1.0.1)\n",
      "Requirement already satisfied: termcolor in d:\\tools\\python\\python38\\lib\\site-packages (from pyautogen) (2.4.0)\n",
      "Requirement already satisfied: tiktoken in d:\\tools\\python\\python38\\lib\\site-packages (from pyautogen) (0.7.0)\n",
      "Requirement already satisfied: numpy<2.0.0,>=1.24.0 in d:\\tools\\python\\python38\\lib\\site-packages (from pyautogen) (1.24.4)\n",
      "Requirement already satisfied: anyio<5,>=3.5.0 in d:\\tools\\python\\python38\\lib\\site-packages (from openai>=1.3->pyautogen) (3.6.2)\n",
      "Requirement already satisfied: distro<2,>=1.7.0 in d:\\tools\\python\\python38\\lib\\site-packages (from openai>=1.3->pyautogen) (1.9.0)\n",
      "Requirement already satisfied: httpx<1,>=0.23.0 in d:\\tools\\python\\python38\\lib\\site-packages (from openai>=1.3->pyautogen) (0.28.1)\n",
      "Requirement already satisfied: jiter<1,>=0.4.0 in d:\\tools\\python\\python38\\lib\\site-packages (from openai>=1.3->pyautogen) (0.9.1)\n",
      "Requirement already satisfied: sniffio in d:\\tools\\python\\python38\\lib\\site-packages (from openai>=1.3->pyautogen) (1.3.0)\n",
      "Requirement already satisfied: tqdm>4 in d:\\tools\\python\\python38\\lib\\site-packages (from openai>=1.3->pyautogen) (4.65.0)\n",
      "Requirement already satisfied: typing-extensions<5,>=4.11 in d:\\tools\\python\\python38\\lib\\site-packages (from openai>=1.3->pyautogen) (4.12.2)\n",
      "Requirement already satisfied: annotated-types>=0.6.0 in d:\\tools\\python\\python38\\lib\\site-packages (from pydantic!=2.6.0,<3,>=1.10->pyautogen) (0.7.0)\n",
      "Requirement already satisfied: pydantic-core==2.27.2 in d:\\tools\\python\\python38\\lib\\site-packages (from pydantic!=2.6.0,<3,>=1.10->pyautogen) (2.27.2)\n",
      "Requirement already satisfied: pywin32>=304 in d:\\tools\\python\\python38\\lib\\site-packages (from docker->pyautogen) (305)\n",
      "Requirement already satisfied: requests>=2.26.0 in d:\\tools\\python\\python38\\lib\\site-packages (from docker->pyautogen) (2.31.0)\n",
      "Requirement already satisfied: urllib3>=1.26.0 in d:\\tools\\python\\python38\\lib\\site-packages (from docker->pyautogen) (1.26.3)\n",
      "Requirement already satisfied: regex>=2022.1.18 in d:\\tools\\python\\python38\\lib\\site-packages (from tiktoken->pyautogen) (2024.11.6)\n",
      "Requirement already satisfied: idna>=2.8 in d:\\tools\\python\\python38\\lib\\site-packages (from anyio<5,>=3.5.0->openai>=1.3->pyautogen) (3.4)\n",
      "Requirement already satisfied: certifi in d:\\tools\\python\\python38\\lib\\site-packages (from httpx<1,>=0.23.0->openai>=1.3->pyautogen) (2022.12.7)\n",
      "Requirement already satisfied: httpcore==1.* in d:\\tools\\python\\python38\\lib\\site-packages (from httpx<1,>=0.23.0->openai>=1.3->pyautogen) (1.0.9)\n",
      "Requirement already satisfied: h11>=0.16 in d:\\tools\\python\\python38\\lib\\site-packages (from httpcore==1.*->httpx<1,>=0.23.0->openai>=1.3->pyautogen) (0.16.0)\n",
      "Requirement already satisfied: charset-normalizer<4,>=2 in d:\\tools\\python\\python38\\lib\\site-packages (from requests>=2.26.0->docker->pyautogen) (3.0.1)\n",
      "Requirement already satisfied: colorama in d:\\tools\\python\\python38\\lib\\site-packages (from tqdm>4->openai>=1.3->pyautogen) (0.4.6)\n"
     ]
    }
   ],
   "source": [
    "# install AutoGen python package\n",
    "! pip install pyautogen"
   ]
  },
  {
   "cell_type": "markdown",
   "id": "ce062a6d",
   "metadata": {},
   "source": [
    "## Load packages"
   ]
  },
  {
   "cell_type": "code",
   "execution_count": 11,
   "id": "b8769502",
   "metadata": {},
   "outputs": [],
   "source": [
    "import autogen"
   ]
  },
  {
   "cell_type": "code",
   "execution_count": 12,
   "id": "e62d8125",
   "metadata": {},
   "outputs": [
    {
     "data": {
      "text/plain": [
       "True"
      ]
     },
     "execution_count": 12,
     "metadata": {},
     "output_type": "execute_result"
    }
   ],
   "source": [
    "# import required libraries\n",
    "# import autogen\n",
    "import os\n",
    "from dotenv import load_dotenv\n",
    "\n",
    "# load environment variables from .env file\n",
    "load_dotenv()\n"
   ]
  },
  {
   "cell_type": "markdown",
   "id": "46b1b1fe",
   "metadata": {},
   "source": [
    "## LLM configuration"
   ]
  },
  {
   "cell_type": "code",
   "execution_count": 13,
   "id": "4f57fe75",
   "metadata": {},
   "outputs": [],
   "source": [
    "## configuring the LLM\n",
    "\n",
    "llm_config = {\"model\":\"gpt-4o\",\n",
    "               \"api_key\":os.getenv(\"OPENAI_API_KEY\")}\n",
    "     \n",
    "\n",
    "# ## if you want to use multiple LLMs, use config_list\n",
    "# config_list = [\n",
    "#    {\"model\": \"gpt-4o\", \"api_key\": os.getenv(\"OPENAI_API_KEY\")},\n",
    "#    {\"model\": \"llama-7B\", \"base_url\": \"http://127.0.0.1:8080\", \"tags\": [\"llama\", \"local\"]},\n",
    "# ]\n",
    "\n",
    "# llm_config = {'config_list':config_list}\n"
   ]
  },
  {
   "cell_type": "markdown",
   "id": "154d6563",
   "metadata": {},
   "source": [
    "## Build a basic agent using AutoGen"
   ]
  },
  {
   "cell_type": "markdown",
   "id": "b53715fa",
   "metadata": {},
   "source": [
    "Create a conversable agent from AutoGen"
   ]
  },
  {
   "cell_type": "code",
   "execution_count": 14,
   "id": "e61c1d69",
   "metadata": {},
   "outputs": [],
   "source": [
    "# import conversable agenet from autogen\n",
    "from autogen import ConversableAgent\n",
    "\n",
    "# create a conversable agent\n",
    "agent = ConversableAgent(\n",
    "    name=\"chatbot\",\n",
    "    llm_config=llm_config,\n",
    "    system_message=\"You are a helpful assistant.\",\n",
    "    human_input_mode=\"NEVER\",\n",
    ")"
   ]
  },
  {
   "cell_type": "markdown",
   "id": "36a6c321",
   "metadata": {},
   "source": [
    "Now let's test the agent by sending a message to it and getting a response."
   ]
  },
  {
   "cell_type": "code",
   "execution_count": 16,
   "id": "d737bf8e",
   "metadata": {},
   "outputs": [],
   "source": [
    "reply = agent.generate_reply(\n",
    "    messages=[{\"content\": \"How to make delicious ramen?\", \"role\": \"user\"}]\n",
    ")\n"
   ]
  },
  {
   "cell_type": "code",
   "execution_count": 17,
   "id": "dfe560de",
   "metadata": {},
   "outputs": [
    {
     "name": "stdout",
     "output_type": "stream",
     "text": [
      "Agent reply:\n",
      " Making delicious ramen involves balancing flavors, textures, and toppings to create a satisfying bowl of noodles. Here's a simple recipe to get you started with a basic shoyu (soy sauce) ramen, which is one of the most popular styles:\n",
      "\n",
      "### Ingredients:\n",
      "\n",
      "#### Broth:\n",
      "- 4 cups chicken broth or stock\n",
      "- 2 cups dashi (Japanese stock made from kombu and bonito flakes) or more chicken broth\n",
      "- 3 tablespoons soy sauce\n",
      "- 1 tablespoon mirin (sweet Japanese rice wine)\n",
      "- 1 tablespoon sake (optional)\n",
      "- 1 teaspoon sugar\n",
      "- 2 cloves of garlic, minced\n",
      "- 1-inch piece of fresh ginger, sliced\n",
      "\n",
      "#### Noodles:\n",
      "- 2 servings of fresh or dried ramen noodles\n",
      "\n",
      "#### Toppings:\n",
      "- 2 soft-boiled eggs (ajitsuke tamago) - boil eggs for 6 minutes, then cool in ice water and peel\n",
      "- 1 cup sliced green onions (scallions)\n",
      "- 2 sheets nori (seaweed), cut into strips\n",
      "- 4 slices of chashu pork (braised pork belly) or any cooked pork\n",
      "- 1 cup bean sprouts (optional)\n",
      "- Corn kernels, bamboo shoots, or mushrooms as additional toppings (optional)\n",
      "- Chili oil or togarashi (Japanese chili powder), for a spicy kick (optional)\n",
      "\n",
      "### Instructions:\n",
      "\n",
      "1. **Prepare the Broth:**\n",
      "   - In a large pot, combine the chicken stock, dashi, soy sauce, mirin, sake, sugar, garlic, and ginger.\n",
      "   - Bring to a boil, then reduce the heat and let it simmer for about 15-20 minutes to allow the flavors to meld together.\n",
      "   - Taste and adjust seasoning if needed – add more soy sauce for saltiness or more sugar for sweetness.\n",
      "\n",
      "2. **Cook the Noodles:**\n",
      "   - Cook the ramen noodles according to the package instructions. Fresh noodles usually take 2-3 minutes, while dried ones may take longer.\n",
      "   - Drain the noodles and rinse them briefly under cold water to stop the cooking process.\n",
      "\n",
      "3. **Assemble the Ramen:**\n",
      "   - Divide the cooked noodles between two large bowls.\n",
      "   - Pour the hot broth over the noodles, ensuring each bowl gets a fair share of the flavor.\n",
      "   - Arrange the toppings: place two halves of the soft-boiled egg, slices of chashu pork, a handful of green onions, and any other desired toppings over the noodles.\n",
      "   - Add a strip or two of nori on the side of each bowl.\n",
      "\n",
      "4. **Serve:**\n",
      "   - Serve the ramen immediately. Allow your guests to add chili oil or togarashi to taste if they prefer a spicy variant.\n",
      "\n",
      "### Tips:\n",
      "\n",
      "- **Customize Your Toppings:** Feel free to experiment with other toppings like bok choy, spinach, kimchi, or even tofu.\n",
      "- **Make It Vegetarian:** Replace the chicken stock with vegetable stock and choose toppings like tofu or mushrooms instead of pork.\n",
      "- **Prepare In Advance:** You can make the broth and soft-boiled eggs ahead of time and store them in the refrigerator for up to two days.\n",
      "\n",
      "Enjoy crafting your personalized, delicious bowl of ramen!\n"
     ]
    }
   ],
   "source": [
    "print(\"Agent reply:\\n\", reply)"
   ]
  }
 ],
 "metadata": {
  "kernelspec": {
   "display_name": "Python 3",
   "language": "python",
   "name": "python3"
  },
  "language_info": {
   "codemirror_mode": {
    "name": "ipython",
    "version": 3
   },
   "file_extension": ".py",
   "mimetype": "text/x-python",
   "name": "python",
   "nbconvert_exporter": "python",
   "pygments_lexer": "ipython3",
   "version": "3.8.8"
  }
 },
 "nbformat": 4,
 "nbformat_minor": 5
}
