{
 "cells": [
  {
   "cell_type": "markdown",
   "id": "73688570",
   "metadata": {},
   "source": [
    "## Load required packages"
   ]
  },
  {
   "cell_type": "code",
   "execution_count": 2,
   "id": "fc975e26",
   "metadata": {},
   "outputs": [
    {
     "name": "stderr",
     "output_type": "stream",
     "text": [
      "d:\\Tools\\Python\\Python38\\lib\\site-packages\\flaml\\__init__.py:20: UserWarning: flaml.automl is not available. Please install flaml[automl] to enable AutoML functionalities.\n",
      "  warnings.warn(\"flaml.automl is not available. Please install flaml[automl] to enable AutoML functionalities.\")\n"
     ]
    }
   ],
   "source": [
    "import autogen"
   ]
  },
  {
   "cell_type": "code",
   "execution_count": 3,
   "id": "a6268304",
   "metadata": {},
   "outputs": [
    {
     "data": {
      "text/plain": [
       "True"
      ]
     },
     "execution_count": 3,
     "metadata": {},
     "output_type": "execute_result"
    }
   ],
   "source": [
    "\n",
    "import os\n",
    "from dotenv import load_dotenv\n",
    "\n",
    "# load environment variables from .env file\n",
    "load_dotenv()\n"
   ]
  },
  {
   "cell_type": "markdown",
   "id": "221e1c57",
   "metadata": {},
   "source": [
    "## Configure LLM"
   ]
  },
  {
   "cell_type": "code",
   "execution_count": 4,
   "id": "c03f01d8",
   "metadata": {},
   "outputs": [],
   "source": [
    "# use gpt-4o model, as gemini is not working\n",
    "llm_config = {\n",
    "    \"model\": \"gpt-4o\",\n",
    "    \"api_key\": os.getenv(\"OPENAI_API_KEY\")\n",
    "    }"
   ]
  },
  {
   "cell_type": "markdown",
   "id": "0bf91671",
   "metadata": {},
   "source": [
    "## Create student and tutor agents"
   ]
  },
  {
   "cell_type": "code",
   "execution_count": 5,
   "id": "a9ba4442",
   "metadata": {},
   "outputs": [],
   "source": [
    "# import conversable agenet from autogen\n",
    "from autogen import ConversableAgent\n",
    "\n",
    "# student agent\n",
    "student = ConversableAgent(\n",
    "    name=\"Student\",\n",
    "    system_message=\"You are a student who is learning about multi-agent conversations.\",\n",
    "    llm_config=llm_config,\n",
    "    human_input_mode=\"NEVER\",\n",
    "    is_termination_msg=lambda msg: \"exit\" in msg['content'].lower() or \"quit\" in msg['content'].lower()\n",
    ")"
   ]
  },
  {
   "cell_type": "code",
   "execution_count": 6,
   "id": "afc3db23",
   "metadata": {},
   "outputs": [],
   "source": [
    "# tutor agent\n",
    "tutor = ConversableAgent(\n",
    "    name=\"Tutor\",\n",
    "    system_message=\"You are a tutor who is teaching a student about multi-agent conversations.\",\n",
    "    llm_config=llm_config,\n",
    "    human_input_mode=\"NEVER\"\n",
    ")"
   ]
  },
  {
   "cell_type": "markdown",
   "id": "94d46402",
   "metadata": {},
   "source": [
    "## Start a learning session"
   ]
  },
  {
   "cell_type": "code",
   "execution_count": 7,
   "id": "116e0de8",
   "metadata": {},
   "outputs": [
    {
     "name": "stdout",
     "output_type": "stream",
     "text": [
      "\u001b[33mStudent\u001b[0m (to Tutor):\n",
      "\n",
      "I don't know why gemini api is not working with autogen when using conversableAgent()\n",
      "\n",
      "--------------------------------------------------------------------------------\n",
      "\u001b[33mTutor\u001b[0m (to Student):\n",
      "\n",
      "When you're integrating Gemini with AutoGen using the `conversableAgent()`, there could be a number of reasons why it may not be working as expected. Here are some steps to troubleshoot the issue:\n",
      "\n",
      "1. **Check API Key and Authentication**: \n",
      "   - Ensure you have a valid API key and that it is set up correctly in your environment or in the code where the API call is made.\n",
      "   - Verify that your API key has the necessary permissions to access the Gemini API.\n",
      "\n",
      "2. **API Endpoint**:\n",
      "   - Double-check that you are using the correct API endpoint URL for the Gemini service in your calls.\n",
      "\n",
      "3. **Version Compatibility**:\n",
      "   - Ensure that the version of the AutoGen library you are using is compatible with the Gemini API version you are trying to access.\n",
      "\n",
      "4. **Network and Firewall**:\n",
      "   - Ensure there are no network issues or firewall restrictions that might be blocking the request to the Gemini API.\n",
      "\n",
      "5. **Code and Syntax**:\n",
      "   - Double-check the syntax and ensure that all parameters passed to `conversableAgent()` are correct and appropriately formatted. Errors in JSON structure or missing required fields can lead to failures.\n",
      "\n",
      "6. **Dependencies**:\n",
      "   - Verify that all dependencies for AutoGen and other libraries used are correctly installed and there are no version conflicts.\n",
      "\n",
      "7. **Error Messages and Logs**:\n",
      "   - Check any error messages returned by the API or any relevant logs for additional information that can point to what might be going wrong.\n",
      "\n",
      "8. **Documentation**:\n",
      "   - Review the documentation for both AutoGen and the Gemini API for any updates, changes, or specific usage instructions that you might have missed.\n",
      "\n",
      "9. **Rate Limits**:\n",
      "   - Ensure you are not exceeding any rate limits set by the Gemini API, which could lead to temporary blocking of requests.\n",
      "\n",
      "10. **Community and Support**:\n",
      "    - Look for community discussions, forums, or support channels specific to AutoGen and the Gemini API to see if others have encountered and resolved similar issues.\n",
      "\n",
      "If you go through these steps and the problem persists, providing specific error messages or debugging outputs can help further diagnose the issue.\n",
      "\n",
      "--------------------------------------------------------------------------------\n",
      "\u001b[33mStudent\u001b[0m (to Tutor):\n",
      "\n",
      "Additionally, if you're still facing issues, consider testing with a simpler example or a different API request format to isolate the problem further. Also, sometimes libraries or APIs have recent updates or deprecated features that might not be well-documented yet, so checking the latest updates or reaching out to the library's maintainers could also be helpful.\n",
      "\n",
      "--------------------------------------------------------------------------------\n",
      "\u001b[33mTutor\u001b[0m (to Student):\n",
      "\n",
      "Absolutely, that's a very solid approach. When troubleshooting API issues, simplifying the problem can often help you identify the root cause more effectively. Here are a few additional suggestions:\n",
      "\n",
      "1. **Simplified Test Case**:\n",
      "   - Create a minimal test case that reduces the complexity of your requests to just the essentials needed to test the connection with the API. This might help identify whether the issue is with the payload complexity or the integration itself.\n",
      "\n",
      "2. **API Downtime and Updates**:\n",
      "   - Check if the Gemini API is currently fully operational by visiting their status page, if available. Sometimes outages or maintenance windows can cause unexpected disruptions.\n",
      "\n",
      "3. **Deprecation Notices**:\n",
      "   - Pay attention to any deprecation warnings in the documentation. APIs often deprecate older methods or endpoints, and it's important to ensure that you're not using any outdated features.\n",
      "\n",
      "4. **Logging and Debugging**:\n",
      "   - Add detailed logging to your code to capture what parameters and data are being sent and received. This can be invaluable in pinpointing where the problem lies.\n",
      "\n",
      "5. **Community Forums and Developer Support**:\n",
      "   - Engaging with the community around the API can provide insights, as other users may have encountered similar issues. Checking forums like Stack Overflow, Reddit, or specific community forums related to Gemini API can be helpful.\n",
      "\n",
      "6. **Contact Support**:\n",
      "   - If you have exhausted all other options, reaching out to the API support team directly with detailed information on your issue, including error messages and API request samples, may lead to a quicker resolution.\n",
      "\n",
      "By thoroughly checking each component and utilizing community and support channels, you stand a better chance of resolving the issue. Keep in mind that sometimes even small details can lead to significant breakthroughs in troubleshooting.\n",
      "\n",
      "--------------------------------------------------------------------------------\n"
     ]
    }
   ],
   "source": [
    "result = student.initiate_chat(\n",
    "    recipient = tutor,\n",
    "    message = \"I don't know why gemini api is not working with autogen when using conversableAgent()\",\n",
    "    max_turns=2\n",
    ")"
   ]
  },
  {
   "cell_type": "markdown",
   "id": "5ddc90cf",
   "metadata": {},
   "source": [
    "## Show results"
   ]
  },
  {
   "cell_type": "code",
   "execution_count": 8,
   "id": "ee522478",
   "metadata": {},
   "outputs": [
    {
     "name": "stdout",
     "output_type": "stream",
     "text": [
      "[{'content': \"I don't know why gemini api is not working with autogen when \"\n",
      "             'using conversableAgent()',\n",
      "  'name': 'Student',\n",
      "  'role': 'assistant'},\n",
      " {'content': \"When you're integrating Gemini with AutoGen using the \"\n",
      "             '`conversableAgent()`, there could be a number of reasons why it '\n",
      "             'may not be working as expected. Here are some steps to '\n",
      "             'troubleshoot the issue:\\n'\n",
      "             '\\n'\n",
      "             '1. **Check API Key and Authentication**: \\n'\n",
      "             '   - Ensure you have a valid API key and that it is set up '\n",
      "             'correctly in your environment or in the code where the API call '\n",
      "             'is made.\\n'\n",
      "             '   - Verify that your API key has the necessary permissions to '\n",
      "             'access the Gemini API.\\n'\n",
      "             '\\n'\n",
      "             '2. **API Endpoint**:\\n'\n",
      "             '   - Double-check that you are using the correct API endpoint '\n",
      "             'URL for the Gemini service in your calls.\\n'\n",
      "             '\\n'\n",
      "             '3. **Version Compatibility**:\\n'\n",
      "             '   - Ensure that the version of the AutoGen library you are '\n",
      "             'using is compatible with the Gemini API version you are trying '\n",
      "             'to access.\\n'\n",
      "             '\\n'\n",
      "             '4. **Network and Firewall**:\\n'\n",
      "             '   - Ensure there are no network issues or firewall restrictions '\n",
      "             'that might be blocking the request to the Gemini API.\\n'\n",
      "             '\\n'\n",
      "             '5. **Code and Syntax**:\\n'\n",
      "             '   - Double-check the syntax and ensure that all parameters '\n",
      "             'passed to `conversableAgent()` are correct and appropriately '\n",
      "             'formatted. Errors in JSON structure or missing required fields '\n",
      "             'can lead to failures.\\n'\n",
      "             '\\n'\n",
      "             '6. **Dependencies**:\\n'\n",
      "             '   - Verify that all dependencies for AutoGen and other '\n",
      "             'libraries used are correctly installed and there are no version '\n",
      "             'conflicts.\\n'\n",
      "             '\\n'\n",
      "             '7. **Error Messages and Logs**:\\n'\n",
      "             '   - Check any error messages returned by the API or any '\n",
      "             'relevant logs for additional information that can point to what '\n",
      "             'might be going wrong.\\n'\n",
      "             '\\n'\n",
      "             '8. **Documentation**:\\n'\n",
      "             '   - Review the documentation for both AutoGen and the Gemini '\n",
      "             'API for any updates, changes, or specific usage instructions '\n",
      "             'that you might have missed.\\n'\n",
      "             '\\n'\n",
      "             '9. **Rate Limits**:\\n'\n",
      "             '   - Ensure you are not exceeding any rate limits set by the '\n",
      "             'Gemini API, which could lead to temporary blocking of requests.\\n'\n",
      "             '\\n'\n",
      "             '10. **Community and Support**:\\n'\n",
      "             '    - Look for community discussions, forums, or support '\n",
      "             'channels specific to AutoGen and the Gemini API to see if others '\n",
      "             'have encountered and resolved similar issues.\\n'\n",
      "             '\\n'\n",
      "             'If you go through these steps and the problem persists, '\n",
      "             'providing specific error messages or debugging outputs can help '\n",
      "             'further diagnose the issue.',\n",
      "  'name': 'Tutor',\n",
      "  'role': 'user'},\n",
      " {'content': \"Additionally, if you're still facing issues, consider testing \"\n",
      "             'with a simpler example or a different API request format to '\n",
      "             'isolate the problem further. Also, sometimes libraries or APIs '\n",
      "             'have recent updates or deprecated features that might not be '\n",
      "             'well-documented yet, so checking the latest updates or reaching '\n",
      "             \"out to the library's maintainers could also be helpful.\",\n",
      "  'name': 'Student',\n",
      "  'role': 'assistant'},\n",
      " {'content': \"Absolutely, that's a very solid approach. When troubleshooting \"\n",
      "             'API issues, simplifying the problem can often help you identify '\n",
      "             'the root cause more effectively. Here are a few additional '\n",
      "             'suggestions:\\n'\n",
      "             '\\n'\n",
      "             '1. **Simplified Test Case**:\\n'\n",
      "             '   - Create a minimal test case that reduces the complexity of '\n",
      "             'your requests to just the essentials needed to test the '\n",
      "             'connection with the API. This might help identify whether the '\n",
      "             'issue is with the payload complexity or the integration itself.\\n'\n",
      "             '\\n'\n",
      "             '2. **API Downtime and Updates**:\\n'\n",
      "             '   - Check if the Gemini API is currently fully operational by '\n",
      "             'visiting their status page, if available. Sometimes outages or '\n",
      "             'maintenance windows can cause unexpected disruptions.\\n'\n",
      "             '\\n'\n",
      "             '3. **Deprecation Notices**:\\n'\n",
      "             '   - Pay attention to any deprecation warnings in the '\n",
      "             'documentation. APIs often deprecate older methods or endpoints, '\n",
      "             \"and it's important to ensure that you're not using any outdated \"\n",
      "             'features.\\n'\n",
      "             '\\n'\n",
      "             '4. **Logging and Debugging**:\\n'\n",
      "             '   - Add detailed logging to your code to capture what '\n",
      "             'parameters and data are being sent and received. This can be '\n",
      "             'invaluable in pinpointing where the problem lies.\\n'\n",
      "             '\\n'\n",
      "             '5. **Community Forums and Developer Support**:\\n'\n",
      "             '   - Engaging with the community around the API can provide '\n",
      "             'insights, as other users may have encountered similar issues. '\n",
      "             'Checking forums like Stack Overflow, Reddit, or specific '\n",
      "             'community forums related to Gemini API can be helpful.\\n'\n",
      "             '\\n'\n",
      "             '6. **Contact Support**:\\n'\n",
      "             '   - If you have exhausted all other options, reaching out to '\n",
      "             'the API support team directly with detailed information on your '\n",
      "             'issue, including error messages and API request samples, may '\n",
      "             'lead to a quicker resolution.\\n'\n",
      "             '\\n'\n",
      "             'By thoroughly checking each component and utilizing community '\n",
      "             'and support channels, you stand a better chance of resolving the '\n",
      "             'issue. Keep in mind that sometimes even small details can lead '\n",
      "             'to significant breakthroughs in troubleshooting.',\n",
      "  'name': 'Tutor',\n",
      "  'role': 'user'}]\n"
     ]
    }
   ],
   "source": [
    "import pprint\n",
    "pprint.pprint(result.chat_history)"
   ]
  },
  {
   "cell_type": "code",
   "execution_count": 9,
   "id": "26cfb265",
   "metadata": {},
   "outputs": [
    {
     "name": "stdout",
     "output_type": "stream",
     "text": [
      "{'usage_excluding_cached_inference': {'total_cost': 0},\n",
      " 'usage_including_cached_inference': {'gpt-4o-2024-08-06': {'completion_tokens': 850,\n",
      "                                                            'cost': 0.011215,\n",
      "                                                            'prompt_tokens': 1086,\n",
      "                                                            'total_tokens': 1936},\n",
      "                                      'total_cost': 0.011215}}\n"
     ]
    }
   ],
   "source": [
    "pprint.pprint(result.cost)"
   ]
  },
  {
   "cell_type": "code",
   "execution_count": 10,
   "id": "dd7977f2",
   "metadata": {},
   "outputs": [
    {
     "name": "stdout",
     "output_type": "stream",
     "text": [
      "(\"Absolutely, that's a very solid approach. When troubleshooting API issues, \"\n",
      " 'simplifying the problem can often help you identify the root cause more '\n",
      " 'effectively. Here are a few additional suggestions:\\n'\n",
      " '\\n'\n",
      " '1. **Simplified Test Case**:\\n'\n",
      " '   - Create a minimal test case that reduces the complexity of your requests '\n",
      " 'to just the essentials needed to test the connection with the API. This '\n",
      " 'might help identify whether the issue is with the payload complexity or the '\n",
      " 'integration itself.\\n'\n",
      " '\\n'\n",
      " '2. **API Downtime and Updates**:\\n'\n",
      " '   - Check if the Gemini API is currently fully operational by visiting '\n",
      " 'their status page, if available. Sometimes outages or maintenance windows '\n",
      " 'can cause unexpected disruptions.\\n'\n",
      " '\\n'\n",
      " '3. **Deprecation Notices**:\\n'\n",
      " '   - Pay attention to any deprecation warnings in the documentation. APIs '\n",
      " \"often deprecate older methods or endpoints, and it's important to ensure \"\n",
      " \"that you're not using any outdated features.\\n\"\n",
      " '\\n'\n",
      " '4. **Logging and Debugging**:\\n'\n",
      " '   - Add detailed logging to your code to capture what parameters and data '\n",
      " 'are being sent and received. This can be invaluable in pinpointing where the '\n",
      " 'problem lies.\\n'\n",
      " '\\n'\n",
      " '5. **Community Forums and Developer Support**:\\n'\n",
      " '   - Engaging with the community around the API can provide insights, as '\n",
      " 'other users may have encountered similar issues. Checking forums like Stack '\n",
      " 'Overflow, Reddit, or specific community forums related to Gemini API can be '\n",
      " 'helpful.\\n'\n",
      " '\\n'\n",
      " '6. **Contact Support**:\\n'\n",
      " '   - If you have exhausted all other options, reaching out to the API '\n",
      " 'support team directly with detailed information on your issue, including '\n",
      " 'error messages and API request samples, may lead to a quicker resolution.\\n'\n",
      " '\\n'\n",
      " 'By thoroughly checking each component and utilizing community and support '\n",
      " 'channels, you stand a better chance of resolving the issue. Keep in mind '\n",
      " 'that sometimes even small details can lead to significant breakthroughs in '\n",
      " 'troubleshooting.')\n"
     ]
    }
   ],
   "source": [
    "pprint.pprint(result.summary)"
   ]
  },
  {
   "cell_type": "markdown",
   "id": "ba3fb395",
   "metadata": {},
   "source": [
    "## Terminate the conversation"
   ]
  },
  {
   "cell_type": "code",
   "execution_count": 11,
   "id": "6f3e52af",
   "metadata": {},
   "outputs": [
    {
     "name": "stdout",
     "output_type": "stream",
     "text": [
      "\u001b[33mStudent\u001b[0m (to Tutor):\n",
      "\n",
      "I will learn more and come back later. Can you please say exit at the end of the conversation?\n",
      "\n",
      "--------------------------------------------------------------------------------\n",
      "\u001b[33mTutor\u001b[0m (to Student):\n",
      "\n",
      "Sure! Just let me know when you're ready to wrap up, and I'll end with \"exit\" as you've requested.\n",
      "\n",
      "--------------------------------------------------------------------------------\n"
     ]
    }
   ],
   "source": [
    "result = student.initiate_chat(\n",
    "    recipient = tutor,\n",
    "    message = \"I will learn more and come back later. Can you please say exit at the end of the conversation?\",\n",
    "    max_turns=2\n",
    ")"
   ]
  }
 ],
 "metadata": {
  "kernelspec": {
   "display_name": "Python 3",
   "language": "python",
   "name": "python3"
  },
  "language_info": {
   "codemirror_mode": {
    "name": "ipython",
    "version": 3
   },
   "file_extension": ".py",
   "mimetype": "text/x-python",
   "name": "python",
   "nbconvert_exporter": "python",
   "pygments_lexer": "ipython3",
   "version": "3.8.8"
  }
 },
 "nbformat": 4,
 "nbformat_minor": 5
}
